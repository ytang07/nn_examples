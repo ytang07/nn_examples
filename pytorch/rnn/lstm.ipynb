{
 "cells": [
  {
   "cell_type": "code",
   "execution_count": 7,
   "metadata": {},
   "outputs": [],
   "source": [
    "import os\n",
    "import torch\n",
    "import numpy as np\n",
    "import pandas as pd\n",
    "\n",
    "from torch import nn, optim\n",
    "from torch.utils.data import DataLoader\n",
    "from torchvision import datasets, transforms"
   ]
  },
  {
   "cell_type": "code",
   "execution_count": 3,
   "metadata": {},
   "outputs": [],
   "source": [
    "batchsize=100\n",
    "training_data = datasets.FashionMNIST(root=\"../fashion_mnist\", train=True, transform=transforms.ToTensor())\n",
    "test_data = datasets.FashionMNIST(root=\"../fashion_mnist\", train=False, transform=transforms.ToTensor())\n",
    "\n",
    "train_dataloader = DataLoader(training_data, batch_size=batchsize)\n",
    "test_dataloader = DataLoader(test_data, batch_size=batchsize)"
   ]
  },
  {
   "cell_type": "code",
   "execution_count": 4,
   "metadata": {},
   "outputs": [],
   "source": [
    "# define hyperparmaters\n",
    "sequence_len = 28\n",
    "input_len = 28\n",
    "hidden_size = 128\n",
    "num_layers = 2\n",
    "num_classes = 10\n",
    "num_epochs = 5\n",
    "learning_rate = 0.01"
   ]
  },
  {
   "cell_type": "code",
   "execution_count": 14,
   "metadata": {},
   "outputs": [],
   "source": [
    "class LSTM(nn.Module):\n",
    "    def __init__(self, input_len, hidden_size, num_class, num_layers):\n",
    "        super(LSTM, self).__init__()\n",
    "        self.hidden_size = hidden_size\n",
    "        self.num_layers = num_layers\n",
    "        self.lstm = nn.LSTM(input_len, hidden_size, num_layers, batch_first=True)\n",
    "        self.output_layer = nn.Linear(hidden_size, num_classes)\n",
    "    \n",
    "    def forward(self, X):\n",
    "        hidden_states = torch.zeros(self.num_layers, X.size(0), self.hidden_size)\n",
    "        cell_states = torch.zeros(self.num_layers, X.size(0), self.hidden_size)\n",
    "        out, _ = self.lstm(X, (hidden_states, cell_states))\n",
    "        out = self.output_layer(out[:, -1, :])\n",
    "        return out"
   ]
  },
  {
   "cell_type": "code",
   "execution_count": 15,
   "metadata": {},
   "outputs": [
    {
     "name": "stdout",
     "output_type": "stream",
     "text": [
      "LSTM(\n",
      "  (lstm): LSTM(28, 128, num_layers=2, batch_first=True)\n",
      "  (output_layer): Linear(in_features=128, out_features=10, bias=True)\n",
      ")\n"
     ]
    }
   ],
   "source": [
    "model = LSTM(input_len, hidden_size, num_classes, num_layers)\n",
    "print(model)"
   ]
  },
  {
   "cell_type": "code",
   "execution_count": 19,
   "metadata": {},
   "outputs": [],
   "source": [
    "loss_func = nn.CrossEntropyLoss()\n",
    "sgd = optim.SGD(model.parameters(), lr=learning_rate)\n",
    "adam = optim.Adam(model.parameters(), lr=learning_rate)"
   ]
  },
  {
   "cell_type": "code",
   "execution_count": 21,
   "metadata": {},
   "outputs": [],
   "source": [
    "def train(num_epochs, model, train_dataloader, loss_func, optimizer):\n",
    "    total_steps = len(train_dataloader)\n",
    "\n",
    "    for epoch in range(num_epochs):\n",
    "        for batch, (images, labels) in enumerate(train_dataloader):\n",
    "            images = images.reshape(-1, sequence_len, input_len)\n",
    "            \n",
    "            output = model(images)\n",
    "            loss = loss_func(output, labels)\n",
    "\n",
    "            optimizer.zero_grad()\n",
    "            loss.backward()\n",
    "            optimizer.step()\n",
    "\n",
    "            if (batch+1)%100 == 0:\n",
    "                print(f\"Epoch: {epoch+1}; Batch {batch+1} / {total_steps}; Loss: {loss.item():>4f}\")"
   ]
  },
  {
   "cell_type": "code",
   "execution_count": 22,
   "metadata": {},
   "outputs": [
    {
     "name": "stdout",
     "output_type": "stream",
     "text": [
      "Epoch: 1; Batch 100 / 600; Loss: 0.918076\n",
      "Epoch: 1; Batch 200 / 600; Loss: 0.766438\n",
      "Epoch: 1; Batch 300 / 600; Loss: 0.943084\n",
      "Epoch: 1; Batch 400 / 600; Loss: 0.604074\n",
      "Epoch: 1; Batch 500 / 600; Loss: 0.645839\n",
      "Epoch: 1; Batch 600 / 600; Loss: 0.364988\n",
      "Epoch: 2; Batch 100 / 600; Loss: 0.450433\n",
      "Epoch: 2; Batch 200 / 600; Loss: 0.420381\n",
      "Epoch: 2; Batch 300 / 600; Loss: 0.430095\n",
      "Epoch: 2; Batch 400 / 600; Loss: 0.358064\n",
      "Epoch: 2; Batch 500 / 600; Loss: 0.502615\n",
      "Epoch: 2; Batch 600 / 600; Loss: 0.271195\n",
      "Epoch: 3; Batch 100 / 600; Loss: 0.339103\n",
      "Epoch: 3; Batch 200 / 600; Loss: 0.349369\n",
      "Epoch: 3; Batch 300 / 600; Loss: 0.318679\n",
      "Epoch: 3; Batch 400 / 600; Loss: 0.331628\n",
      "Epoch: 3; Batch 500 / 600; Loss: 0.415435\n",
      "Epoch: 3; Batch 600 / 600; Loss: 0.260229\n",
      "Epoch: 4; Batch 100 / 600; Loss: 0.357943\n",
      "Epoch: 4; Batch 200 / 600; Loss: 0.296318\n",
      "Epoch: 4; Batch 300 / 600; Loss: 0.304155\n",
      "Epoch: 4; Batch 400 / 600; Loss: 0.296495\n",
      "Epoch: 4; Batch 500 / 600; Loss: 0.378561\n",
      "Epoch: 4; Batch 600 / 600; Loss: 0.249634\n",
      "Epoch: 5; Batch 100 / 600; Loss: 0.318510\n",
      "Epoch: 5; Batch 200 / 600; Loss: 0.255150\n",
      "Epoch: 5; Batch 300 / 600; Loss: 0.266922\n",
      "Epoch: 5; Batch 400 / 600; Loss: 0.306328\n",
      "Epoch: 5; Batch 500 / 600; Loss: 0.389431\n",
      "Epoch: 5; Batch 600 / 600; Loss: 0.236069\n"
     ]
    }
   ],
   "source": [
    "train(num_epochs, model, train_dataloader, loss_func, adam)"
   ]
  },
  {
   "cell_type": "code",
   "execution_count": 24,
   "metadata": {},
   "outputs": [
    {
     "data": {
      "text/plain": [
       "tensor([9, 2, 1, 1, 6, 1, 4, 6, 5, 7, 4, 5, 7, 3, 4, 1, 2, 4, 8, 0, 2, 5, 7, 9,\n",
       "        1, 4, 6, 0, 9, 3, 8, 8, 3, 3, 8, 0, 7, 5, 7, 9, 6, 1, 3, 7, 6, 7, 2, 1,\n",
       "        2, 2, 4, 4, 5, 8, 2, 2, 8, 4, 8, 0, 7, 7, 8, 5, 1, 1, 2, 3, 9, 8, 7, 0,\n",
       "        2, 6, 2, 3, 1, 2, 8, 4, 1, 8, 5, 9, 5, 0, 3, 2, 0, 6, 5, 3, 6, 7, 1, 8,\n",
       "        0, 1, 4, 2])"
      ]
     },
     "execution_count": 24,
     "metadata": {},
     "output_type": "execute_result"
    }
   ],
   "source": [
    "test_images, test_labels = next(iter(test_dataloader))\n",
    "test_labels"
   ]
  },
  {
   "cell_type": "code",
   "execution_count": 25,
   "metadata": {},
   "outputs": [],
   "source": [
    "test_output = model(test_images.view(-1, 28, 28))"
   ]
  },
  {
   "cell_type": "code",
   "execution_count": 28,
   "metadata": {},
   "outputs": [
    {
     "data": {
      "text/plain": [
       "tensor([9, 2, 1, 1, 6, 1, 4, 6, 5, 7, 4, 5, 7, 3, 2, 1, 2, 4, 8, 0, 2, 5, 7, 5,\n",
       "        1, 2, 6, 0, 9, 3, 8, 8, 3, 3, 8, 0, 7, 5, 7, 9, 0, 1, 0, 9, 6, 7, 2, 1,\n",
       "        4, 2, 4, 4, 5, 8, 2, 2, 8, 4, 8, 0, 7, 7, 8, 5, 1, 1, 0, 3, 7, 8, 7, 0,\n",
       "        2, 6, 2, 3, 1, 2, 8, 4, 1, 8, 5, 9, 5, 0, 3, 2, 0, 2, 5, 3, 6, 7, 1, 8,\n",
       "        0, 1, 4, 2])"
      ]
     },
     "execution_count": 28,
     "metadata": {},
     "output_type": "execute_result"
    }
   ],
   "source": [
    "predicted = torch.max(test_output, 1)[1]\n",
    "predicted"
   ]
  },
  {
   "cell_type": "code",
   "execution_count": 29,
   "metadata": {},
   "outputs": [],
   "source": [
    "correct = [1 for i in range(100) if predicted[i] == test_labels[i]]"
   ]
  },
  {
   "cell_type": "code",
   "execution_count": 30,
   "metadata": {},
   "outputs": [],
   "source": [
    "percentage_correct = sum(correct)/100"
   ]
  },
  {
   "cell_type": "code",
   "execution_count": 31,
   "metadata": {},
   "outputs": [
    {
     "data": {
      "text/plain": [
       "0.9"
      ]
     },
     "execution_count": 31,
     "metadata": {},
     "output_type": "execute_result"
    }
   ],
   "source": [
    "percentage_correct"
   ]
  },
  {
   "cell_type": "code",
   "execution_count": 34,
   "metadata": {},
   "outputs": [],
   "source": [
    "def test_loop(dataloader, model, loss_fn, optimizer):\n",
    "    size = len(dataloader.dataset)\n",
    "    num_batches = len(dataloader)\n",
    "    test_loss, correct = 0, 0\n",
    "\n",
    "    with torch.no_grad():\n",
    "        for X, y in dataloader:\n",
    "            # reshape images\n",
    "            X = X.reshape(-1, 28, 28)\n",
    "            pred = model(X)\n",
    "            test_loss += loss_fn(pred, y).item()\n",
    "            correct += (pred.argmax(1) == y).type(torch.float).sum().item()\n",
    "    \n",
    "    test_loss /= num_batches\n",
    "    correct /= size\n",
    "    print(f\"Test Error:\\n Accuracy: {(100*correct):>0.1f}%, Avg loss: {test_loss:>8f}\\n\")\n",
    "    return 100*correct"
   ]
  },
  {
   "cell_type": "code",
   "execution_count": 35,
   "metadata": {},
   "outputs": [
    {
     "name": "stdout",
     "output_type": "stream",
     "text": [
      "Test Error:\n",
      " Accuracy: 87.5%, Avg loss: 0.346195\n",
      "\n"
     ]
    },
    {
     "data": {
      "text/plain": [
       "87.52"
      ]
     },
     "execution_count": 35,
     "metadata": {},
     "output_type": "execute_result"
    }
   ],
   "source": [
    "test_loop(test_dataloader, model, loss_func, adam)"
   ]
  },
  {
   "cell_type": "code",
   "execution_count": null,
   "metadata": {},
   "outputs": [],
   "source": []
  }
 ],
 "metadata": {
  "kernelspec": {
   "display_name": "py310",
   "language": "python",
   "name": "python3"
  },
  "language_info": {
   "codemirror_mode": {
    "name": "ipython",
    "version": 3
   },
   "file_extension": ".py",
   "mimetype": "text/x-python",
   "name": "python",
   "nbconvert_exporter": "python",
   "pygments_lexer": "ipython3",
   "version": "3.10.1"
  },
  "orig_nbformat": 4,
  "vscode": {
   "interpreter": {
    "hash": "5b8558028271c3f4dacf0cfa43977e947963d135213064e74a619ed38b92a2d1"
   }
  }
 },
 "nbformat": 4,
 "nbformat_minor": 2
}
